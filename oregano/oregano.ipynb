{
 "cells": [
  {
   "cell_type": "code",
   "execution_count": 83,
   "metadata": {},
   "outputs": [],
   "source": [
    "#cargamos las bibliotecas a utilizar y asignamos nombres cortos\n",
    "import pandas as pd\n",
    "import numpy as np\n",
    "import seaborn as sns\n",
    "import matplotlib.pyplot as plt\n",
    "import matplotlib.dates as mdates"
   ]
  },
  {
   "cell_type": "code",
   "execution_count": 116,
   "metadata": {},
   "outputs": [],
   "source": [
    "#leemos el archivo con los datos a utilizar y creamos un dataframe\n",
    "df=pd.read_csv('oreganov008.psl', skiprows=14, sep='\\s+')\n",
    "\n",
    "#eliminamos los datos inutiles del dataframe\n",
    "df=df.drop(df.index[[0,61,62,63]])"
   ]
  },
  {
   "cell_type": "code",
   "execution_count": 117,
   "metadata": {},
   "outputs": [
    {
     "data": {
      "text/html": [
       "<div>\n",
       "<style scoped>\n",
       "    .dataframe tbody tr th:only-of-type {\n",
       "        vertical-align: middle;\n",
       "    }\n",
       "\n",
       "    .dataframe tbody tr th {\n",
       "        vertical-align: top;\n",
       "    }\n",
       "\n",
       "    .dataframe thead th {\n",
       "        text-align: right;\n",
       "    }\n",
       "</style>\n",
       "<table border=\"1\" class=\"dataframe\">\n",
       "  <thead>\n",
       "    <tr style=\"text-align: right;\">\n",
       "      <th></th>\n",
       "      <th>Time</th>\n",
       "      <th>(s)</th>\n",
       "      <th>Total</th>\n",
       "      <th>Count</th>\n",
       "      <th>Counts</th>\n",
       "      <th>per</th>\n",
       "      <th>Cycle</th>\n",
       "    </tr>\n",
       "  </thead>\n",
       "  <tbody>\n",
       "    <tr>\n",
       "      <th>1</th>\n",
       "      <td>1</td>\n",
       "      <td>259</td>\n",
       "      <td>+/-</td>\n",
       "      <td>17.0</td>\n",
       "      <td>3</td>\n",
       "      <td>+/-</td>\n",
       "      <td>6</td>\n",
       "    </tr>\n",
       "    <tr>\n",
       "      <th>2</th>\n",
       "      <td>2</td>\n",
       "      <td>266</td>\n",
       "      <td>+/-</td>\n",
       "      <td>18.0</td>\n",
       "      <td>7</td>\n",
       "      <td>+/-</td>\n",
       "      <td>6</td>\n",
       "    </tr>\n",
       "    <tr>\n",
       "      <th>3</th>\n",
       "      <td>3</td>\n",
       "      <td>271</td>\n",
       "      <td>+/-</td>\n",
       "      <td>19.0</td>\n",
       "      <td>5</td>\n",
       "      <td>+/-</td>\n",
       "      <td>6</td>\n",
       "    </tr>\n",
       "    <tr>\n",
       "      <th>4</th>\n",
       "      <td>4</td>\n",
       "      <td>271</td>\n",
       "      <td>+/-</td>\n",
       "      <td>20.0</td>\n",
       "      <td>0</td>\n",
       "      <td>+/-</td>\n",
       "      <td>5</td>\n",
       "    </tr>\n",
       "    <tr>\n",
       "      <th>5</th>\n",
       "      <td>5</td>\n",
       "      <td>267</td>\n",
       "      <td>+/-</td>\n",
       "      <td>20.0</td>\n",
       "      <td>-4</td>\n",
       "      <td>+/-</td>\n",
       "      <td>6</td>\n",
       "    </tr>\n",
       "  </tbody>\n",
       "</table>\n",
       "</div>"
      ],
      "text/plain": [
       "  Time  (s) Total  Count Counts  per Cycle\n",
       "1    1  259   +/-   17.0      3  +/-     6\n",
       "2    2  266   +/-   18.0      7  +/-     6\n",
       "3    3  271   +/-   19.0      5  +/-     6\n",
       "4    4  271   +/-   20.0      0  +/-     5\n",
       "5    5  267   +/-   20.0     -4  +/-     6"
      ]
     },
     "execution_count": 117,
     "metadata": {},
     "output_type": "execute_result"
    }
   ],
   "source": [
    "df.head()"
   ]
  },
  {
   "cell_type": "code",
   "execution_count": 118,
   "metadata": {},
   "outputs": [
    {
     "data": {
      "text/html": [
       "<div>\n",
       "<style scoped>\n",
       "    .dataframe tbody tr th:only-of-type {\n",
       "        vertical-align: middle;\n",
       "    }\n",
       "\n",
       "    .dataframe tbody tr th {\n",
       "        vertical-align: top;\n",
       "    }\n",
       "\n",
       "    .dataframe thead th {\n",
       "        text-align: right;\n",
       "    }\n",
       "</style>\n",
       "<table border=\"1\" class=\"dataframe\">\n",
       "  <thead>\n",
       "    <tr style=\"text-align: right;\">\n",
       "      <th></th>\n",
       "      <th>Time</th>\n",
       "      <th>TC</th>\n",
       "      <th>TCe</th>\n",
       "      <th>Count</th>\n",
       "      <th>Ce</th>\n",
       "    </tr>\n",
       "  </thead>\n",
       "  <tbody>\n",
       "    <tr>\n",
       "      <th>1</th>\n",
       "      <td>1.0</td>\n",
       "      <td>259.0</td>\n",
       "      <td>17.0</td>\n",
       "      <td>3.0</td>\n",
       "      <td>6.0</td>\n",
       "    </tr>\n",
       "    <tr>\n",
       "      <th>2</th>\n",
       "      <td>2.0</td>\n",
       "      <td>266.0</td>\n",
       "      <td>18.0</td>\n",
       "      <td>7.0</td>\n",
       "      <td>6.0</td>\n",
       "    </tr>\n",
       "    <tr>\n",
       "      <th>3</th>\n",
       "      <td>3.0</td>\n",
       "      <td>271.0</td>\n",
       "      <td>19.0</td>\n",
       "      <td>5.0</td>\n",
       "      <td>6.0</td>\n",
       "    </tr>\n",
       "    <tr>\n",
       "      <th>4</th>\n",
       "      <td>4.0</td>\n",
       "      <td>271.0</td>\n",
       "      <td>20.0</td>\n",
       "      <td>0.0</td>\n",
       "      <td>5.0</td>\n",
       "    </tr>\n",
       "    <tr>\n",
       "      <th>5</th>\n",
       "      <td>5.0</td>\n",
       "      <td>267.0</td>\n",
       "      <td>20.0</td>\n",
       "      <td>-4.0</td>\n",
       "      <td>6.0</td>\n",
       "    </tr>\n",
       "  </tbody>\n",
       "</table>\n",
       "</div>"
      ],
      "text/plain": [
       "   Time     TC   TCe  Count   Ce\n",
       "1   1.0  259.0  17.0    3.0  6.0\n",
       "2   2.0  266.0  18.0    7.0  6.0\n",
       "3   3.0  271.0  19.0    5.0  6.0\n",
       "4   4.0  271.0  20.0    0.0  5.0\n",
       "5   5.0  267.0  20.0   -4.0  6.0"
      ]
     },
     "execution_count": 118,
     "metadata": {},
     "output_type": "execute_result"
    }
   ],
   "source": [
    "#ordenamos los datos del dataframe\n",
    "oreg=pd.DataFrame([])\n",
    "\n",
    "oreg[\"Time\"]=df[\"Time\"].astype(float)\n",
    "oreg[\"TC\"]=df[\"(s)\"].astype(float)\n",
    "oreg[\"TCe\"]=df[\"Count\"].astype(float)\n",
    "oreg[\"Count\"]=df[\"Counts\"].astype(float)\n",
    "oreg[\"Ce\"]=df[\"Cycle\"].astype(float)\n",
    "\n",
    "oreg.head()"
   ]
  },
  {
   "cell_type": "code",
   "execution_count": 119,
   "metadata": {},
   "outputs": [
    {
     "data": {
      "image/png": "[encoded data removed]",
      "text/plain": [
       "<Figure size 936x360 with 1 Axes>"
      ]
     },
     "metadata": {
      "needs_background": "light"
     },
     "output_type": "display_data"
    }
   ],
   "source": [
    "# graficas de las diferentes muestras de TIEMPO contra CUENTAS\n",
    "\n",
    "plt.figure(figsize=(13, 5))\n",
    "plt.plot(oreg.Time, oreg.TC, \"ro\",color=\"black\", marker=\"o\")\n",
    "\n",
    "plt.xlabel('Tiempo (s)')\n",
    "plt.ylabel('Count')\n",
    "plt.title(\"oreganov008\")\n",
    "plt.grid(True)\n",
    "#plt.legend()\n",
    "#agregamos barras de error\n",
    "x=oreg.Time\n",
    "y_error= [0 for i in range(len(oreg))]\n",
    "y=oreg.TC\n",
    "x_error= oreg.TCe\n",
    "plt.errorbar(x,y,x_error, y_error, fmt=\"none\", ecolor=\"orange\", capsize=5)\n",
    "#Guardamos la gráfica como png\n",
    "plt.savefig(\"Gráficas/oreganov008\")\n",
    "plt.show()\n"
   ]
  },
  {
   "cell_type": "code",
   "execution_count": null,
   "metadata": {},
   "outputs": [],
   "source": []
  }
 ],
 "metadata": {
  "kernelspec": {
   "display_name": "Python 3",
   "language": "python",
   "name": "python3"
  },
  "language_info": {
   "codemirror_mode": {
    "name": "ipython",
    "version": 3
   },
   "file_extension": ".py",
   "mimetype": "text/x-python",
   "name": "python",
   "nbconvert_exporter": "python",
   "pygments_lexer": "ipython3",
   "version": "3.7.1"
  }
 },
 "nbformat": 4,
 "nbformat_minor": 2
}
