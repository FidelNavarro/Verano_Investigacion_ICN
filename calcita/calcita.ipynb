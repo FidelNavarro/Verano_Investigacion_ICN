{
 "cells": [
  {
   "cell_type": "code",
   "execution_count": 105,
   "metadata": {},
   "outputs": [],
   "source": [
    "#cargamos las bibliotecas a utilizar y asignamos nombres cortos\n",
    "import pandas as pd\n",
    "import numpy as np\n",
    "import matplotlib.pyplot as plt\n",
    "import math"
   ]
  },
  {
   "cell_type": "code",
   "execution_count": 106,
   "metadata": {},
   "outputs": [],
   "source": [
    "#leemos el archivo de texto\n",
    "df=pd.read_csv('calcitan.asc', header=None, sep=\",\")"
   ]
  },
  {
   "cell_type": "code",
   "execution_count": 107,
   "metadata": {},
   "outputs": [
    {
     "data": {
      "text/html": [
       "<div>\n",
       "<style scoped>\n",
       "    .dataframe tbody tr th:only-of-type {\n",
       "        vertical-align: middle;\n",
       "    }\n",
       "\n",
       "    .dataframe tbody tr th {\n",
       "        vertical-align: top;\n",
       "    }\n",
       "\n",
       "    .dataframe thead th {\n",
       "        text-align: right;\n",
       "    }\n",
       "</style>\n",
       "<table border=\"1\" class=\"dataframe\">\n",
       "  <thead>\n",
       "    <tr style=\"text-align: right;\">\n",
       "      <th></th>\n",
       "      <th>0</th>\n",
       "      <th>1</th>\n",
       "      <th>2</th>\n",
       "      <th>3</th>\n",
       "      <th>4</th>\n",
       "      <th>5</th>\n",
       "      <th>6</th>\n",
       "      <th>7</th>\n",
       "      <th>8</th>\n",
       "      <th>9</th>\n",
       "      <th>...</th>\n",
       "      <th>195</th>\n",
       "      <th>196</th>\n",
       "      <th>197</th>\n",
       "      <th>198</th>\n",
       "      <th>199</th>\n",
       "      <th>200</th>\n",
       "      <th>201</th>\n",
       "      <th>202</th>\n",
       "      <th>203</th>\n",
       "      <th>204</th>\n",
       "    </tr>\n",
       "  </thead>\n",
       "  <tbody>\n",
       "    <tr>\n",
       "      <th>0</th>\n",
       "      <td>calcitan</td>\n",
       "      <td>\"calc1f          \"</td>\n",
       "      <td>505.444</td>\n",
       "      <td>\"nC\"</td>\n",
       "      <td>32</td>\n",
       "      <td>32</td>\n",
       "      <td>32</td>\n",
       "      <td>32</td>\n",
       "      <td>32</td>\n",
       "      <td>32</td>\n",
       "      <td>...</td>\n",
       "      <td>393</td>\n",
       "      <td>395</td>\n",
       "      <td>396</td>\n",
       "      <td>398</td>\n",
       "      <td>399</td>\n",
       "      <td>399</td>\n",
       "      <td>399</td>\n",
       "      <td>399</td>\n",
       "      <td>399</td>\n",
       "      <td></td>\n",
       "    </tr>\n",
       "    <tr>\n",
       "      <th>1</th>\n",
       "      <td>calcitan</td>\n",
       "      <td>\"calc1f          \"</td>\n",
       "      <td>505.444</td>\n",
       "      <td>\"nC\"</td>\n",
       "      <td>62</td>\n",
       "      <td>306</td>\n",
       "      <td>103</td>\n",
       "      <td>157</td>\n",
       "      <td>141</td>\n",
       "      <td>59</td>\n",
       "      <td>...</td>\n",
       "      <td>163560</td>\n",
       "      <td>169442</td>\n",
       "      <td>171210</td>\n",
       "      <td>177194</td>\n",
       "      <td>182776</td>\n",
       "      <td>184982</td>\n",
       "      <td>183728</td>\n",
       "      <td>185368</td>\n",
       "      <td>184433</td>\n",
       "      <td>NaN</td>\n",
       "    </tr>\n",
       "    <tr>\n",
       "      <th>2</th>\n",
       "      <td>calcitan</td>\n",
       "      <td>\"calc2f          \"</td>\n",
       "      <td>433.051</td>\n",
       "      <td>\"nC\"</td>\n",
       "      <td>39</td>\n",
       "      <td>39</td>\n",
       "      <td>39</td>\n",
       "      <td>39</td>\n",
       "      <td>39</td>\n",
       "      <td>39</td>\n",
       "      <td>...</td>\n",
       "      <td>393</td>\n",
       "      <td>395</td>\n",
       "      <td>396</td>\n",
       "      <td>398</td>\n",
       "      <td>399</td>\n",
       "      <td>399</td>\n",
       "      <td>399</td>\n",
       "      <td>399</td>\n",
       "      <td>399</td>\n",
       "      <td></td>\n",
       "    </tr>\n",
       "    <tr>\n",
       "      <th>3</th>\n",
       "      <td>calcitan</td>\n",
       "      <td>\"calc2f          \"</td>\n",
       "      <td>433.051</td>\n",
       "      <td>\"nC\"</td>\n",
       "      <td>99</td>\n",
       "      <td>78</td>\n",
       "      <td>64</td>\n",
       "      <td>244</td>\n",
       "      <td>122</td>\n",
       "      <td>175</td>\n",
       "      <td>...</td>\n",
       "      <td>114950</td>\n",
       "      <td>118468</td>\n",
       "      <td>124585</td>\n",
       "      <td>127441</td>\n",
       "      <td>131624</td>\n",
       "      <td>134248</td>\n",
       "      <td>136445</td>\n",
       "      <td>139737</td>\n",
       "      <td>139547</td>\n",
       "      <td>NaN</td>\n",
       "    </tr>\n",
       "  </tbody>\n",
       "</table>\n",
       "<p>4 rows × 205 columns</p>\n",
       "</div>"
      ],
      "text/plain": [
       "                0                    1        2      3    4    5    6    7    \\\n",
       "0  calcitan           \"calc1f          \"  505.444   \"nC\"   32   32   32   32   \n",
       "1  calcitan           \"calc1f          \"  505.444   \"nC\"   62  306  103  157   \n",
       "2  calcitan           \"calc2f          \"  433.051   \"nC\"   39   39   39   39   \n",
       "3  calcitan           \"calc2f          \"  433.051   \"nC\"   99   78   64  244   \n",
       "\n",
       "   8    9   ...      195     196     197     198     199     200     201  \\\n",
       "0   32   32 ...      393     395     396     398     399     399     399   \n",
       "1  141   59 ...   163560  169442  171210  177194  182776  184982  183728   \n",
       "2   39   39 ...      393     395     396     398     399     399     399   \n",
       "3  122  175 ...   114950  118468  124585  127441  131624  134248  136445   \n",
       "\n",
       "      202     203  204  \n",
       "0     399     399       \n",
       "1  185368  184433  NaN  \n",
       "2     399     399       \n",
       "3  139737  139547  NaN  \n",
       "\n",
       "[4 rows x 205 columns]"
      ]
     },
     "execution_count": 107,
     "metadata": {},
     "output_type": "execute_result"
    }
   ],
   "source": [
    "df.head()"
   ]
  },
  {
   "cell_type": "code",
   "execution_count": 108,
   "metadata": {},
   "outputs": [],
   "source": [
    "#Rotamos el dataframe\n",
    "df=df.T.reset_index()"
   ]
  },
  {
   "cell_type": "code",
   "execution_count": 109,
   "metadata": {},
   "outputs": [],
   "source": [
    "#eliminamos las filas no deseadas\n",
    "df=df.drop(df.index[[0,1,2,3,len(df)-1]])"
   ]
  },
  {
   "cell_type": "code",
   "execution_count": 110,
   "metadata": {},
   "outputs": [
    {
     "data": {
      "text/html": [
       "<div>\n",
       "<style scoped>\n",
       "    .dataframe tbody tr th:only-of-type {\n",
       "        vertical-align: middle;\n",
       "    }\n",
       "\n",
       "    .dataframe tbody tr th {\n",
       "        vertical-align: top;\n",
       "    }\n",
       "\n",
       "    .dataframe thead th {\n",
       "        text-align: right;\n",
       "    }\n",
       "</style>\n",
       "<table border=\"1\" class=\"dataframe\">\n",
       "  <thead>\n",
       "    <tr style=\"text-align: right;\">\n",
       "      <th></th>\n",
       "      <th>index</th>\n",
       "      <th>0</th>\n",
       "      <th>1</th>\n",
       "      <th>2</th>\n",
       "      <th>3</th>\n",
       "    </tr>\n",
       "  </thead>\n",
       "  <tbody>\n",
       "    <tr>\n",
       "      <th>199</th>\n",
       "      <td>199</td>\n",
       "      <td>399</td>\n",
       "      <td>182776</td>\n",
       "      <td>399</td>\n",
       "      <td>131624</td>\n",
       "    </tr>\n",
       "    <tr>\n",
       "      <th>200</th>\n",
       "      <td>200</td>\n",
       "      <td>399</td>\n",
       "      <td>184982</td>\n",
       "      <td>399</td>\n",
       "      <td>134248</td>\n",
       "    </tr>\n",
       "    <tr>\n",
       "      <th>201</th>\n",
       "      <td>201</td>\n",
       "      <td>399</td>\n",
       "      <td>183728</td>\n",
       "      <td>399</td>\n",
       "      <td>136445</td>\n",
       "    </tr>\n",
       "    <tr>\n",
       "      <th>202</th>\n",
       "      <td>202</td>\n",
       "      <td>399</td>\n",
       "      <td>185368</td>\n",
       "      <td>399</td>\n",
       "      <td>139737</td>\n",
       "    </tr>\n",
       "    <tr>\n",
       "      <th>203</th>\n",
       "      <td>203</td>\n",
       "      <td>399</td>\n",
       "      <td>184433</td>\n",
       "      <td>399</td>\n",
       "      <td>139547</td>\n",
       "    </tr>\n",
       "  </tbody>\n",
       "</table>\n",
       "</div>"
      ],
      "text/plain": [
       "     index    0       1    2       3\n",
       "199    199  399  182776  399  131624\n",
       "200    200  399  184982  399  134248\n",
       "201    201  399  183728  399  136445\n",
       "202    202  399  185368  399  139737\n",
       "203    203  399  184433  399  139547"
      ]
     },
     "execution_count": 110,
     "metadata": {},
     "output_type": "execute_result"
    }
   ],
   "source": [
    "df.tail()"
   ]
  },
  {
   "cell_type": "code",
   "execution_count": 111,
   "metadata": {},
   "outputs": [
    {
     "data": {
      "text/plain": [
       "index     int64\n",
       "0        object\n",
       "1        object\n",
       "2        object\n",
       "3        object\n",
       "dtype: object"
      ]
     },
     "execution_count": 111,
     "metadata": {},
     "output_type": "execute_result"
    }
   ],
   "source": [
    "df.dtypes"
   ]
  },
  {
   "cell_type": "code",
   "execution_count": 113,
   "metadata": {},
   "outputs": [],
   "source": [
    "#organizamos la información\n",
    "df.columns=[\"ind\",\"T1\", \"I1\", \"T2\", \"I2\"]\n",
    "df1=pd.DataFrame([])\n",
    "df1[\"T1\"]=pd.to_numeric(df.T1)\n",
    "df1[\"I1\"]=pd.to_numeric(df.I1)\n",
    "df1[\"T2\"]=pd.to_numeric(df.T2)\n",
    "df1[\"I2\"]=pd.to_numeric(df.I2)"
   ]
  },
  {
   "cell_type": "code",
   "execution_count": 114,
   "metadata": {},
   "outputs": [
    {
     "data": {
      "text/plain": [
       "T1    int64\n",
       "I1    int64\n",
       "T2    int64\n",
       "I2    int64\n",
       "dtype: object"
      ]
     },
     "execution_count": 114,
     "metadata": {},
     "output_type": "execute_result"
    }
   ],
   "source": [
    "df1.dtypes"
   ]
  },
  {
   "cell_type": "code",
   "execution_count": 117,
   "metadata": {},
   "outputs": [
    {
     "data": {
      "image/png": "[encoded data removed]",
      "text/plain": [
       "<Figure size 576x360 with 1 Axes>"
      ]
     },
     "metadata": {
      "needs_background": "light"
     },
     "output_type": "display_data"
    }
   ],
   "source": [
    "# graficas de las diferentes muestras de TIEMPO contra CUENTAS\n",
    "\n",
    "plt.figure(figsize=(8, 5))\n",
    "plt.plot(df.T1, df.I1,color=\"black\", marker=\".\")\n",
    "#plt.plot(t, sol[:,1], label='y')\n",
    "plt.xlabel('Temperatura °C')\n",
    "plt.ylabel('Intensidad (nA)')\n",
    "plt.title(\"calc1f\")\n",
    "plt.grid(True)\n",
    "#Guardamos la gráfica como png\n",
    "plt.savefig('calc1f')\n",
    "plt.show()"
   ]
  },
  {
   "cell_type": "code",
   "execution_count": 118,
   "metadata": {},
   "outputs": [
    {
     "data": {
      "image/png": "[encoded data removed]",
      "text/plain": [
       "<Figure size 576x360 with 1 Axes>"
      ]
     },
     "metadata": {
      "needs_background": "light"
     },
     "output_type": "display_data"
    }
   ],
   "source": [
    "plt.figure(figsize=(8, 5))\n",
    "plt.plot(df.T2, df.I2,color=\"black\", marker=\".\")\n",
    "#plt.plot(t, sol[:,1], label='y')\n",
    "plt.xlabel('Temperatura °C')\n",
    "plt.ylabel('Intensidad (nA)')\n",
    "plt.title(\"calc2f\")\n",
    "plt.grid(True)\n",
    "#Guardamos la gráfica como png\n",
    "plt.savefig('calc2f')\n",
    "plt.show()"
   ]
  },
  {
   "cell_type": "code",
   "execution_count": null,
   "metadata": {},
   "outputs": [],
   "source": []
  }
 ],
 "metadata": {
  "kernelspec": {
   "display_name": "Python 3",
   "language": "python",
   "name": "python3"
  },
  "language_info": {
   "codemirror_mode": {
    "name": "ipython",
    "version": 3
   },
   "file_extension": ".py",
   "mimetype": "text/x-python",
   "name": "python",
   "nbconvert_exporter": "python",
   "pygments_lexer": "ipython3",
   "version": "3.7.1"
  }
 },
 "nbformat": 4,
 "nbformat_minor": 2
}
